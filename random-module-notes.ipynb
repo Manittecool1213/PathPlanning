{
 "cells": [
  {
   "cell_type": "code",
   "execution_count": 1,
   "metadata": {},
   "outputs": [],
   "source": [
    "import random"
   ]
  },
  {
   "cell_type": "code",
   "execution_count": 3,
   "metadata": {},
   "outputs": [
    {
     "data": {
      "text/plain": [
       "0.8969299708541768"
      ]
     },
     "execution_count": 3,
     "metadata": {},
     "output_type": "execute_result"
    }
   ],
   "source": [
    "random.random()\n",
    "# Returns random value between 0 (inclusive) and 1 (exclusive)."
   ]
  },
  {
   "cell_type": "code",
   "execution_count": 4,
   "metadata": {},
   "outputs": [
    {
     "data": {
      "text/plain": [
       "9.791193466646028"
      ]
     },
     "execution_count": 4,
     "metadata": {},
     "output_type": "execute_result"
    }
   ],
   "source": [
    "start_of_range = 1\n",
    "end_of_range = 10 # Exclusive\n",
    "random.uniform(1, 10)"
   ]
  },
  {
   "cell_type": "code",
   "execution_count": 7,
   "metadata": {},
   "outputs": [
    {
     "data": {
      "text/plain": [
       "1"
      ]
     },
     "execution_count": 7,
     "metadata": {},
     "output_type": "execute_result"
    }
   ],
   "source": [
    "integer_start_of_range = 1\n",
    "integer_end_of_range = 10 # Inclusie, unlike random.uniform()\n",
    "random.randint(integer_start_of_range, integer_start_of_range)"
   ]
  },
  {
   "cell_type": "code",
   "execution_count": 12,
   "metadata": {},
   "outputs": [
    {
     "data": {
      "text/plain": [
       "'element 1'"
      ]
     },
     "execution_count": 12,
     "metadata": {},
     "output_type": "execute_result"
    }
   ],
   "source": [
    "# Choosing value from a list of choices:\n",
    "list_of_choices = ['element 1', 'element 2', 'element 3', 'element 4']\n",
    "random.choice(list_of_choices)"
   ]
  },
  {
   "cell_type": "code",
   "execution_count": 18,
   "metadata": {},
   "outputs": [
    {
     "data": {
      "text/plain": [
       "['element 4', 'element 4', 'element 4', 'element 3', 'element 2', 'element 1']"
      ]
     },
     "execution_count": 18,
     "metadata": {},
     "output_type": "execute_result"
    }
   ],
   "source": [
    "# Choosing more than one value from a list of choices:\n",
    "number_of_values = 6\n",
    "\n",
    "\n",
    "\"\"\"\n",
    "- The choices method performs a random choice as many times as the k value.\n",
    "- This means that the same value may be repeated multiple times.\n",
    "\"\"\"\n",
    "random.choices(list_of_choices, k = number_of_values)"
   ]
  },
  {
   "cell_type": "code",
   "execution_count": 21,
   "metadata": {},
   "outputs": [
    {
     "data": {
      "text/plain": [
       "['element 3',\n",
       " 'element 1',\n",
       " 'element 1',\n",
       " 'element 1',\n",
       " 'element 1',\n",
       " 'element 1',\n",
       " 'element 1',\n",
       " 'element 2',\n",
       " 'element 2',\n",
       " 'element 4']"
      ]
     },
     "execution_count": 21,
     "metadata": {},
     "output_type": "execute_result"
    }
   ],
   "source": [
    "# Assigning weights to values in list:\n",
    "weights = [10, 5, 1, 1]\n",
    "random.choices(list_of_choices, k = 10, weights = weights)"
   ]
  },
  {
   "cell_type": "code",
   "execution_count": 36,
   "metadata": {},
   "outputs": [
    {
     "name": "stdout",
     "output_type": "stream",
     "text": [
      "List before shuffling: [1, 2, 3, 4, 5, 6, 7, 8, 9, 10, 11, 12, 13, 14, 15, 16, 17, 18, 19, 20, 21, 22, 23, 24, 25, 26, 27, 28, 29, 30, 31, 32, 33, 34, 35, 36, 37, 38, 39, 40, 41, 42, 43, 44, 45, 46, 47, 48, 49, 50, 51, 52]\n",
      "\n",
      "List after shuffling: [33, 5, 9, 45, 52, 15, 32, 8, 40, 34, 17, 6, 12, 3, 39, 41, 1, 21, 4, 2, 44, 19, 43, 38, 14, 30, 25, 13, 48, 47, 42, 28, 11, 24, 23, 22, 37, 49, 7, 20, 26, 50, 46, 27, 29, 10, 36, 51, 31, 18, 35, 16]\n"
     ]
    }
   ],
   "source": [
    "# Randomly shuffling list of values:\n",
    "list_to_be_shuffled = list(range(1, 53))\n",
    "print('List before shuffling: ' + str(list_to_be_shuffled))\n",
    "print()\n",
    "\n",
    "random.shuffle(list_to_be_shuffled)\n",
    "print('List after shuffling: ' + str(list_to_be_shuffled)) # Shuffling is performed in-place."
   ]
  },
  {
   "cell_type": "code",
   "execution_count": 39,
   "metadata": {},
   "outputs": [
    {
     "name": "stdout",
     "output_type": "stream",
     "text": [
      "[4, 6, 1, 8]\n"
     ]
    }
   ],
   "source": [
    "# Sampling elements:\n",
    "sample_space = [i for i in range(10)]\n",
    "number_of_samples = 4\n",
    "\n",
    "\"\"\"\n",
    "- This is different from using random.choice().\n",
    "- Here, only unique values are sampled, and there are no repetitions.\n",
    "\"\"\"\n",
    "sample = random.sample(sample_space, k = number_of_samples)\n",
    "print(sample)"
   ]
  },
  {
   "cell_type": "code",
   "execution_count": null,
   "metadata": {},
   "outputs": [],
   "source": []
  }
 ],
 "metadata": {
  "kernelspec": {
   "display_name": "Python 3 (ipykernel)",
   "language": "python",
   "name": "python3"
  },
  "language_info": {
   "codemirror_mode": {
    "name": "ipython",
    "version": 3
   },
   "file_extension": ".py",
   "mimetype": "text/x-python",
   "name": "python",
   "nbconvert_exporter": "python",
   "pygments_lexer": "ipython3",
   "version": "3.8.18"
  }
 },
 "nbformat": 4,
 "nbformat_minor": 4
}
